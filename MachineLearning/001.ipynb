{
 "cells": [
  {
   "cell_type": "markdown",
   "id": "bb2adda4-67b7-43ab-a404-991ed3d86c3f",
   "metadata": {},
   "source": [
    "# "
   ]
  },
  {
   "cell_type": "code",
   "execution_count": 2,
   "id": "f74c71ab-266a-4234-bf9e-8f2031c98977",
   "metadata": {},
   "outputs": [
    {
     "name": "stdout",
     "output_type": "stream",
     "text": [
      "hello world\n"
     ]
    }
   ],
   "source": [
    "print('hello world')"
   ]
  },
  {
   "cell_type": "code",
   "execution_count": 1,
   "id": "27a25b1f-570c-483f-88fb-2a4e75fb2dc2",
   "metadata": {},
   "outputs": [],
   "source": [
    "a = 1\n",
    "b = 2\n",
    "c = a + b"
   ]
  },
  {
   "cell_type": "code",
   "execution_count": 2,
   "id": "1a4647a4-d437-4055-aaf8-4a3119b402ba",
   "metadata": {},
   "outputs": [
    {
     "data": {
      "text/plain": [
       "3"
      ]
     },
     "execution_count": 2,
     "metadata": {},
     "output_type": "execute_result"
    }
   ],
   "source": [
    "c"
   ]
  },
  {
   "cell_type": "markdown",
   "id": "0fc085c3-db8a-4278-933e-a34f845601ce",
   "metadata": {},
   "source": [
    "import time\n",
    "time.sleep(3)"
   ]
  },
  {
   "cell_type": "code",
   "execution_count": 3,
   "id": "57a37463-d1cc-4fb6-b850-470eec338790",
   "metadata": {},
   "outputs": [],
   "source": [
    "import time\n",
    "time.sleep(3)"
   ]
  },
  {
   "cell_type": "markdown",
   "id": "47bdb997-aef3-42ad-a4a9-75391a4bfb7e",
   "metadata": {},
   "source": [
    "# 123"
   ]
  },
  {
   "cell_type": "markdown",
   "id": "c549c322-e1ff-4aa8-81c4-ea7c9df09e47",
   "metadata": {},
   "source": [
    "+ 1\n",
    "+ 2\n",
    "+ 3"
   ]
  },
  {
   "cell_type": "code",
   "execution_count": null,
   "id": "4187c48e-3f39-4c44-adb0-af734c2569cb",
   "metadata": {},
   "outputs": [],
   "source": []
  }
 ],
 "metadata": {
  "kernelspec": {
   "display_name": "Python 3 (ipykernel)",
   "language": "python",
   "name": "python3"
  },
  "language_info": {
   "codemirror_mode": {
    "name": "ipython",
    "version": 3
   },
   "file_extension": ".py",
   "mimetype": "text/x-python",
   "name": "python",
   "nbconvert_exporter": "python",
   "pygments_lexer": "ipython3",
   "version": "3.9.23"
  }
 },
 "nbformat": 4,
 "nbformat_minor": 5
}
