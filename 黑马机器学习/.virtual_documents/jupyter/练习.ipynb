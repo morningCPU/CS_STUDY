import matplotlib.pyplot as plt

plt.figure(figsize=(5, 5), dpi=100)
plt.plot([1, 2, 3, 4, 5, 6], [11, 9, 3, 3, 9, 11])
plt.show()


import random

import matplotlib.pyplot as plt

x = range(60)
y = [random.uniform(15, 18) for i in x]

plt.figure(figsize=(12, 5), dpi=100)
plt.plot(x, y)
plt.show()


import random

import matplotlib.pyplot as plt

x = range(60)
y_shanghai = [random.uniform(15, 18) for i in x]
y_beijing = [random.uniform(12, 15) for i in x]

plt.figure(figsize=(20, 5), dpi=100)

plt.grid(True, linestyle="--", alpha=0.5)

plt.plot(x, y_shanghai, label="上海")
plt.plot(x, y_beijing, color="r", linestyle="-.", label="北京")
plt.legend(loc="best")

plt.xlabel("时间", fontsize=15)
plt.ylabel("气温", fontsize=15)
plt.title("12点到13点气温变化示意图", fontsize=20)

x_ticks = ["12点{}分".format(i) for i in x]
y_ticks = range(41)

plt.xticks(x[::5], x_ticks[::5])
plt.yticks(y_ticks[::5])

plt.savefig("outimages/lianxiimg")

plt.show()


import random

import matplotlib.pyplot as plt

x = range(12)
y_A = [random.uniform(10, 15) for i in x]
y_B = [random.uniform(12, 17) for i in x]
y_C = [random.uniform(8, 13) for i in x]

plt.figure(figsize=(20, 5), dpi=100)
plt.plot(x, y_A, color="k", linestyle="-", label="A")
plt.plot(x, y_B, color="r", linestyle="--", label="B")
plt.plot(x, y_C, color="b", linestyle="-.", label="C")
plt.legend(loc=0)

plt.title("2025年营销额示意图", fontsize=20)
plt.xlabel("月份", fontsize=15)
plt.ylabel("营销额", fontsize=15)
plt.grid(True, linestyle="--", alpha=0.5)

x_ticks = ["{}月".format(i + 1) for i in x]
y_ticks = list(range(30))
y_ticks[25] = "(万元)\n25"
plt.xticks(x[::2], x_ticks[::2])
y = range(30)
plt.yticks(y[::5], y_ticks[::5])

plt.savefig("../outimages/2025年营销额示意图.png")

plt.show()


import random

import matplotlib.pyplot as plt

x = range(12)
y_A = [random.uniform(8, 13) for i in x]
y_B = [random.uniform(10, 15) for i in x]
y_C = [random.uniform(9, 16) for i in x]
y_D = [random.uniform(9, 16) for i in x]

fig, axes = plt.subplots(nrows=1, ncols=3, figsize=(20, 5), dpi=100)

axes[0].plot(x, y_A, linestyle="-", color="k", label="A")
axes[0].plot(x, y_D, linestyle="--", color="r", label="D")
axes[1].plot(x, y_B, label="B", linestyle="-", color="k")
axes[2].plot(x, y_C, label="C", linestyle="-", color="k")

x_ticks = ["{}月".format(i + 1) for i in x]
y = range(30)
y_ticks = list(y)
y_ticks[25] = "(万元)\n25"

axes[0].grid(True, linestyle="--", alpha=0.5)
axes[0].set_xlabel("月份", fontsize=15)
axes[0].set_ylabel("A,D销售额", fontsize=15)
axes[0].set_xticks(x[::2])
axes[0].set_xticklabels(x_ticks[::2])
axes[0].set_yticks(y[::5])
axes[0].set_yticklabels(y_ticks[::5])
axes[0].legend(loc=0)

axes[1].set_title("2024年营销额示意图", fontsize=20)
axes[1].grid(True, linestyle="--", alpha=0.5)
axes[1].set_xlabel("月份", fontsize=15)
axes[1].set_ylabel("B销售额", fontsize=15)
axes[1].set_xticks(x[::2])
axes[1].set_xticklabels(x_ticks[::2])
axes[1].set_yticks(y[::5])
axes[1].set_yticklabels(y_ticks[::5])
axes[1].legend(loc=0)

axes[2].grid(True, linestyle="--", alpha=0.5)
axes[2].set_xlabel("月份", fontsize=15)
axes[2].set_ylabel("C销售额", fontsize=15)
axes[2].set_xticks(x[::2])
axes[2].set_xticklabels(x_ticks[::2])
axes[2].set_yticks(y[::5])
axes[2].set_yticklabels(y_ticks[::5])
axes[2].legend(loc=0)

plt.savefig("../outimages/最终多图结果.png")

plt.show()
