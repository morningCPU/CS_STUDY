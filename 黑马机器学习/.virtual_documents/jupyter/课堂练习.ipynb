import numpy as np


x = np.array([[1,2,3,4],[5,6,7,8]])
y = np.array([[0.1,0.2,0.3,0.4],[0.5,0.6,0.7,0.8]])


print(x+y)


print(x*y)






