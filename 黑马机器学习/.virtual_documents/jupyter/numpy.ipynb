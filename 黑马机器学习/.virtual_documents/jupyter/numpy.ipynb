











import numpy as np

source = np.array(
    [
        [500, 200, 300],  # 周一的销售数据
        [450, 250, 350],  # 周二的销售数据
        [550, 220, 330],  # 周三的销售数据
        [600, 230, 320],  # 周四的销售数据
        [650, 240, 310],  # 周五的销售数据
        [700, 260, 300],  # 周六的销售数据
        [520, 210, 340],  # 周日的销售数据
    ]
)

source

















import numpy as np

source = np.array(
    [
        [500, 200, 300],  # 周一的销售数据
        [450, 250, 350],  # 周二的销售数据
        [550, 220, 330],  # 周三的销售数据
        [600, 230, 320],  # 周四的销售数据
        [650, 240, 310],  # 周五的销售数据
        [700, 260, 300],  # 周六的销售数据
        [520, 210, 340],  # 周日的销售数据
    ]
)

source.shape  # 7行3列l


source.ndim  # 2维w


source.size  # 有21个元素


source.itemsize  # 每个元素占4个字节


source.dtype  # int32类型











import numpy as np

source = np.array([1, 2, 3])

source.dtype


import numpy as np

source = np.array([1, 2, 3], dtype=np.int64)

source.dtype

















import numpy as np

ones = np.ones([2, 3], dtype="int32")  # 我这里默认是float64
ones


ones_2 = np.ones_like(ones)
ones_2


import numpy as np

zeros = np.zeros([2, 3], dtype="int32")  # 我这里默认是float64
zeros


zeros_2 = np.zeros_like(zeros)
zeros_2








import numpy as np

a = np.array([[1, 2, 3], [4, 5, 6]])
print("a原本的值为:\n{}".format(a))
b = np.array(a)
c = np.asarray(a)
a[0][0] = 5
print("a的值为:\n{}".format(a))
print("b的值为:\n{}".format(b))  # b不会被改动
print("c的值为:\n{}".format(c))  # c 会被改动











import numpy as np

a = np.linspace(0, 100, 10, dtype="int32")

a








import numpy as np

a = np.arange(0, 100, 11)
a








import numpy as np

a = np.logspace(0, 2, 3)
a











import matplotlib.pyplot as plt
import numpy as np

a = np.random.randn(100000000)
fig, axes = plt.subplots(nrows=1, ncols=1, figsize=(20, 5), dpi=100)
axes.hist(a,10000)

plt.show()





import matplotlib.pyplot as plt
import numpy as np

a = np.random.normal(1.75, 1, 100000000)
fig, axes = plt.subplots(nrows=1, ncols=1, figsize=(20, 5), dpi=100)
axes.hist(a,10000)

plt.show()





import matplotlib.pyplot as plt
import numpy as np

a = np.random.standard_normal(100000000)
fig, axes = plt.subplots(nrows=1, ncols=1, figsize=(20, 5), dpi=100)
axes.hist(a,1000)

plt.show()



