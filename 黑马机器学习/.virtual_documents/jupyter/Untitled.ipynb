import numpy as np


source = np.array([[1, 2, 3], [4, 5, 6]])


source


x1 = np.array([1, 2, 3, 4, 5])
x2 = np.array([[1, 2, 3, 4, 5]])
x3 = np.array([[1], [2], [3], [4], [5]])


print(np.shape(x1))
print(np.shape(x2))
print(np.shape(x3))



