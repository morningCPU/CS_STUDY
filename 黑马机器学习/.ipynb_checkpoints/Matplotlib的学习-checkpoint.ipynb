{
 "cells": [
  {
   "cell_type": "markdown",
   "id": "a09d66ae-fdff-4aae-a712-bc7741fdeeb8",
   "metadata": {},
   "source": [
    "# Matplotlib"
   ]
  },
  {
   "cell_type": "markdown",
   "id": "7b1db213-2174-46ca-9203-04dd1d7164de",
   "metadata": {},
   "source": [
    "专门用于2D图像绘制，也可以绘制3D图像"
   ]
  },
  {
   "cell_type": "markdown",
   "id": "7ddf2045-c175-47cf-b043-f6ff54c30cf0",
   "metadata": {},
   "source": [
    "## 1. matplotlib.pyplot模块"
   ]
  },
  {
   "cell_type": "markdown",
   "id": "917f26ab-0362-4f2a-bb2f-38f2458a5638",
   "metadata": {},
   "source": [
    "matplotlib.pyplot中包含了一系列类似于matlab的画图函数"
   ]
  },
  {
   "cell_type": "code",
   "execution_count": null,
   "id": "42e85c09-1fcb-4252-9c25-2ec75145c38e",
   "metadata": {},
   "outputs": [],
   "source": [
    "import matplotlib.pyplot as plt"
   ]
  },
  {
   "cell_type": "markdown",
   "id": "fa41d9d1-054d-42cf-8189-705ec682280c",
   "metadata": {},
   "source": [
    "***"
   ]
  },
  {
   "cell_type": "markdown",
   "id": "a647c7b1-b4b4-4da2-abb6-47f51b10fcd8",
   "metadata": {},
   "source": [
    "## 2. 图形绘制流程"
   ]
  },
  {
   "cell_type": "markdown",
   "id": "55d0d1b9-20d1-40c1-ac61-2ff34b384617",
   "metadata": {},
   "source": [
    "### (1) 创建画布   \n",
    "plt.figure()"
   ]
  },
  {
   "cell_type": "code",
   "execution_count": null,
   "id": "d0fb0a6d-bfaf-4d26-9bb9-4aeaa165d64b",
   "metadata": {},
   "outputs": [],
   "source": [
    "plt.figure(figsize=(10, 10), dpi=100)"
   ]
  },
  {
   "cell_type": "markdown",
   "id": "f6f42655-0917-4daa-944e-d3c66e91801e",
   "metadata": {},
   "source": [
    "+ figsize : 指定图的长和宽\n",
    "+ dpi : 指定图的清晰度"
   ]
  },
  {
   "cell_type": "markdown",
   "id": "4c41cf1d-cb96-4c8f-ab33-7c338a7e6133",
   "metadata": {},
   "source": [
    "### (2) 绘制图像"
   ]
  },
  {
   "cell_type": "markdown",
   "id": "b6098660-e475-48e3-832a-38a398a639bc",
   "metadata": {},
   "source": [
    "plt.plot(x,y)   \n",
    "绘制折线图"
   ]
  },
  {
   "cell_type": "code",
   "execution_count": null,
   "id": "a7c9c31a-19c9-4546-9b42-8b8c6e1a4b5c",
   "metadata": {},
   "outputs": [],
   "source": [
    "plt.plot([1, 2, 3, 4, 5, 6, 7], [17, 17, 18, 15, 11, 11, 13])"
   ]
  },
  {
   "cell_type": "markdown",
   "id": "49100cb0-a224-42a8-ab6d-c5eedb1e15d2",
   "metadata": {},
   "source": [
    "### (3) 显示图像"
   ]
  },
  {
   "cell_type": "code",
   "execution_count": null,
   "id": "2cc6ac6e-7aa2-49d2-ac9e-48b103a9b7ad",
   "metadata": {},
   "outputs": [],
   "source": [
    "plt.show()"
   ]
  },
  {
   "cell_type": "markdown",
   "id": "942fc973-c70c-4df0-8c0b-599cf240712b",
   "metadata": {},
   "source": [
    "### (4) 完整展示"
   ]
  },
  {
   "cell_type": "code",
   "execution_count": null,
   "id": "6512d63c-10b1-47db-b6fb-32ab5791eb9f",
   "metadata": {},
   "outputs": [],
   "source": [
    "import matplotlib.pyplot as plt\n",
    "\n",
    "plt.figure(figsize=(20, 10), dpi=50)\n",
    "plt.plot([1, 2, 3, 4, 5, 6, 7, 8, 9, 10], [12, 12, 15, 23, 19, 13, 15, 12, 10, 15])\n",
    "plt.show()"
   ]
  },
  {
   "cell_type": "markdown",
   "id": "130fa459-31b5-46a1-8c80-62941f62c99f",
   "metadata": {},
   "source": [
    "***"
   ]
  },
  {
   "cell_type": "markdown",
   "id": "3a180e61-2a58-4c20-b5ef-d72b40a52167",
   "metadata": {},
   "source": [
    "## 3. Matplotlib图像结构\n",
    "![Matplotlib图像结构.jpg](images/Matplotlib图像结构.jpg)"
   ]
  },
  {
   "cell_type": "markdown",
   "id": "2ce3b98e-54dc-479c-b070-82cdb7f757c6",
   "metadata": {},
   "source": [
    "***\n",
    "## 4. 完善折线图"
   ]
  },
  {
   "cell_type": "markdown",
   "id": "670c2dff-ceb7-416f-bbc4-342260fdf2a0",
   "metadata": {},
   "source": [
    "### (1) 准备数据并画出初始折线图"
   ]
  },
  {
   "cell_type": "code",
   "execution_count": null,
   "id": "e1a0e4df-4653-44ad-808f-399f80a51c2b",
   "metadata": {},
   "outputs": [],
   "source": [
    "import random\n",
    "\n",
    "import matplotlib.pyplot as plt\n",
    "\n",
    "# 生成序列\n",
    "x = range(60)\n",
    "# 列表生成式\n",
    "y = [random.uniform(15, 18) for i in x]\n",
    "\n",
    "plt.figure(figsize=(20, 5), dpi=100)\n",
    "plt.plot(x, y)"
   ]
  },
  {
   "cell_type": "markdown",
   "id": "c81d0476-c29a-4448-beb7-942978b82595",
   "metadata": {},
   "source": [
    "### (2) 添加自定义x,y刻度"
   ]
  },
  {
   "cell_type": "markdown",
   "id": "096e0ac1-faf7-40b2-b85e-55cf993db448",
   "metadata": {},
   "source": [
    "plt.xticks(x,**kwargs)   \n",
    "plt.yticks(y,**kwargs)   \n",
    "注意：如果是纯数字可以直接就用x,如果有数值，首先要用数字，然后替换数字"
   ]
  },
  {
   "cell_type": "code",
   "execution_count": null,
   "id": "05a80b25-0f6f-4102-babb-d364f3dbeb9f",
   "metadata": {},
   "outputs": [],
   "source": [
    "# import matplotlib\n",
    "\n",
    "# # 设置字体为支持中文的字体\n",
    "# matplotlib.rcParams[\"font.family\"] = \"SimHei\"  # 黑体\n",
    "# matplotlib.rcParams[\"font.size\"] = 12\n",
    "# matplotlib.rcParams[\"axes.unicode_minus\"] = False  # 解决负号显示问题\n",
    "# 这里通过jupyter的系统设置实现\n",
    "\n",
    "# 构造x刻度标签\n",
    "x_ticks_label = [\"11点{}分\".format(i) for i in x]\n",
    "\n",
    "# 构造y刻度标签\n",
    "y_ticks_label = range(40)\n",
    "\n",
    "# 修改x,y坐标的刻度显示\n",
    "plt.xticks(x[::5], x_ticks_label[::5])\n",
    "plt.yticks(y_ticks_label[::5])"
   ]
  },
  {
   "cell_type": "markdown",
   "id": "301c50e1-889b-4c10-88f4-eb7152e533b9",
   "metadata": {},
   "source": [
    "### (3) 添加网格显示"
   ]
  },
  {
   "cell_type": "markdown",
   "id": "f26cd23f-8839-4d12-a7d7-24c178c15554",
   "metadata": {},
   "source": [
    "plt.grid(True,linestyle='--',alpha=0.5)"
   ]
  },
  {
   "cell_type": "code",
   "execution_count": null,
   "id": "37fda624-c033-47be-80ce-e02d1b5d22fd",
   "metadata": {},
   "outputs": [],
   "source": [
    "plt.grid(True, linestyle=\"--\", alpha=0.5)"
   ]
  },
  {
   "cell_type": "markdown",
   "id": "066f4187-6107-47d9-9bd0-4ac6710f66fe",
   "metadata": {},
   "source": [
    "### (4) 添加描述信息"
   ]
  },
  {
   "cell_type": "markdown",
   "id": "b3ba6542-b407-4a31-83a3-a11320747774",
   "metadata": {},
   "source": [
    "plt.xlabel(\"时间\")   \n",
    "plt.ylabel(\"气温\")   \n",
    "plt.title(\"中午11点0分到12点0分之间的气温变化示意图\",fontsize=20)"
   ]
  },
  {
   "cell_type": "code",
   "execution_count": null,
   "id": "b007ab95-9693-495a-8e4e-2fefa7e40764",
   "metadata": {},
   "outputs": [],
   "source": [
    "plt.xlabel(\"时间\")\n",
    "plt.ylabel(\"气温\")\n",
    "plt.title(\"中午11点0分到12点0分之间的气温变化示意图\", fontsize=20)"
   ]
  },
  {
   "cell_type": "markdown",
   "id": "993162a1-f2bc-46b8-ac2a-fff18ee99d7a",
   "metadata": {},
   "source": [
    "### (5) 图像保存"
   ]
  },
  {
   "cell_type": "markdown",
   "id": "0b97d338-fc2b-4e33-bf18-b49316aee474",
   "metadata": {},
   "source": [
    "plt.savefig(\"outimages/test.png\")   \n",
    "需要注意：plt.show()会把figure资源释放,如果在show之后保存，那么保存的会是空值"
   ]
  },
  {
   "cell_type": "code",
   "execution_count": null,
   "id": "6560c9db-022e-469f-b408-94a99ad9af15",
   "metadata": {},
   "outputs": [],
   "source": [
    "plt.savefig(\"outimages/test.png\")"
   ]
  },
  {
   "cell_type": "markdown",
   "id": "36e84560-6325-4dbd-a0ee-a14792bfd1db",
   "metadata": {},
   "source": [
    "### (6) 完整代码"
   ]
  },
  {
   "cell_type": "code",
   "execution_count": null,
   "id": "f6c36aeb-3898-4d4a-b39c-c079282a1a32",
   "metadata": {},
   "outputs": [],
   "source": [
    "import random\n",
    "\n",
    "import matplotlib.pyplot as plt\n",
    "\n",
    "# 生成序列\n",
    "x = range(60)\n",
    "# 列表生成式\n",
    "y = [random.uniform(15, 18) for i in x]\n",
    "\n",
    "plt.figure(figsize=(20, 5), dpi=100)\n",
    "plt.plot(x, y)\n",
    "\n",
    "# 构造x刻度标签\n",
    "x_ticks_label = [\"11点{}分\".format(i) for i in x]\n",
    "\n",
    "# 构造y刻度标签\n",
    "y_ticks_label = range(30)\n",
    "\n",
    "# 修改x,y坐标的刻度显示\n",
    "plt.xticks(x[::5], x_ticks_label[::5])\n",
    "plt.yticks(y_ticks_label[10:30:5])\n",
    "\n",
    "plt.grid(True, linestyle=\"--\", alpha=0.5)\n",
    "\n",
    "plt.xlabel(\"时间\")\n",
    "plt.ylabel(\"气温\")\n",
    "plt.title(\"中午11点0分到12点0分的气温变化示意图\", fontsize=20)\n",
    "\n",
    "plt.savefig(\"outimages/test.png\")\n",
    "\n",
    "plt.show()"
   ]
  },
  {
   "cell_type": "markdown",
   "id": "d12e8205-6e63-4574-a4e5-b27226d55d85",
   "metadata": {},
   "source": [
    "***"
   ]
  },
  {
   "cell_type": "markdown",
   "id": "62c97ec4-e20d-4adf-84c1-d40820bb5871",
   "metadata": {},
   "source": [
    "## 5.一个坐标系中绘制多个图像"
   ]
  },
  {
   "cell_type": "markdown",
   "id": "2d73dd0a-3958-439a-bc60-33e2f95247ea",
   "metadata": {},
   "source": [
    "### (1) 多次plot"
   ]
  },
  {
   "cell_type": "markdown",
   "id": "ac26bb75-6412-4be3-bc2b-fdf085604252",
   "metadata": {},
   "source": [
    "y_beijing = [random.uniform(1,3) for i in x]\n",
    "plt.plot(x,y_shanghi)\n",
    "plt.plot(x,y_beijing,color='r',linestyle='--')"
   ]
  },
  {
   "cell_type": "markdown",
   "id": "6ab3ec56-818e-45db-b38c-78d2ce3bbf3e",
   "metadata": {},
   "source": [
    "### (2) 设置图片风格"
   ]
  },
  {
   "cell_type": "markdown",
   "id": "576b9040-65a0-4499-8015-77c08413e4b4",
   "metadata": {},
   "source": [
    "|颜色|风格|\n",
    "|:-:|:-:|\n",
    "|r 红色|- 实线|\n",
    "|g 绿色|-- 虚线|\n",
    "|b 蓝色|-. 点划线|\n",
    "|w 白色|: 点虚线|\n",
    "|c 青色||\n",
    "|m 洋红||\n",
    "|y 黄色||\n",
    "|k 黑色||"
   ]
  },
  {
   "cell_type": "markdown",
   "id": "9ec757f6-1117-4fc5-92cf-3924f24ba7a2",
   "metadata": {},
   "source": [
    "### (3) 显示图例"
   ]
  },
  {
   "cell_type": "markdown",
   "id": "14aff00c-a1e5-41ca-9516-8c0ff94a29d1",
   "metadata": {},
   "source": [
    "在 plt.plot()中设置 label   \n",
    "通过 plt.legend() 显示"
   ]
  },
  {
   "cell_type": "code",
   "execution_count": null,
   "id": "353e58b1-7682-4776-bc58-a22ea7c70630",
   "metadata": {},
   "outputs": [],
   "source": [
    "plt.plot(x,y_shanghai,label=\"上海\")\n",
    "plt.plot(x,y_beijing,color='r',linestyle='--',label=\"北京\")"
   ]
  }
 ],
 "metadata": {
  "kernelspec": {
   "display_name": "Python 3 (ipykernel)",
   "language": "python",
   "name": "python3"
  },
  "language_info": {
   "codemirror_mode": {
    "name": "ipython",
    "version": 3
   },
   "file_extension": ".py",
   "mimetype": "text/x-python",
   "name": "python",
   "nbconvert_exporter": "python",
   "pygments_lexer": "ipython3",
   "version": "3.9.23"
  }
 },
 "nbformat": 4,
 "nbformat_minor": 5
}
