











import matplotlib.pyplot as plt











plt.figure(figsize=(10, 10), dpi=100)











import matplotlib.pyplot as plt

plt.figure(figsize=(10, 10), dpi=100)

plt.plot([1, 2, 3, 4, 5, 6, 7], [17, 17, 18, 15, 11, 11, 13])





plt.show()





import matplotlib.pyplot as plt

plt.figure(figsize=(20, 10), dpi=50)
plt.plot([1, 2, 3, 4, 5, 6, 7, 8, 9, 10], [12, 12, 15, 23, 19, 13, 15, 12, 10, 15])
plt.show()














import random

import matplotlib.pyplot as plt

# 生成序列 12个月
x = range(12)
# 列表生成式
y_A = [random.uniform(10, 15) for i in x]

# 画布
plt.figure(figsize=(20, 5), dpi=100)

plt.plot(x, y_A)








import random

import matplotlib.pyplot as plt

# 生成序列 12个月
x = range(12)
# 列表生成式
y_A = [random.uniform(10, 15) for i in x]

# 画布
plt.figure(figsize=(20, 5), dpi=100)

# import matplotlib

# 置字体为支持中文的字体
# matplotlib.rcParams["font.family"] = "SimHei"  # 黑体
# matplotlib.rcParams["font.size"] = 12
# matplotlib.rcParams["axes.unicode_minus"] = False  # 解决负号显示问题
# 这里通过jupyter的系统设置实现,最后会进行介绍

# 构造x,y刻度标签
x_ticks = ["{}月".format(i + 1) for i in x]
y_ticks = range(30)

# 修改x,y坐标的刻度显示
plt.xticks(x[::2], x_ticks[::2])
plt.yticks(y_ticks[::2])

plt.plot(x, y_A)








import random

import matplotlib.pyplot as plt

# 生成序列 12个月
x = range(12)
# 列表生成式
y_A = [random.uniform(10, 15) for i in x]

# 画布
plt.figure(figsize=(20, 5), dpi=100)

# import matplotlib

# 置字体为支持中文的字体
# matplotlib.rcParams["font.family"] = "SimHei"  # 黑体
# matplotlib.rcParams["font.size"] = 12
# matplotlib.rcParams["axes.unicode_minus"] = False  # 解决负号显示问题
# 这里通过jupyter的系统设置实现,最后会进行介绍

# 构造x,y刻度标签
x_ticks = ["{}月".format(i + 1) for i in x]
y_ticks = range(30)

# 修改x,y坐标的刻度显示
plt.xticks(x[::2], x_ticks[::2])
plt.yticks(y_ticks[::2])

# 添加网格显示
plt.grid(True, linestyle="--", alpha=0.5)

plt.plot(x, y_A)








import random

import matplotlib.pyplot as plt

# 生成序列 12个月
x = range(12)
# 列表生成式
y_A = [random.uniform(10, 15) for i in x]

# 画布
plt.figure(figsize=(20, 5), dpi=100)

# 构造x,y刻度标签
x_ticks = ["{}月".format(i + 1) for i in x]
y_ticks = range(30)

# 修改x,y坐标的刻度显示
plt.xticks(x[::2], x_ticks[::2])
plt.yticks(y_ticks[::2])

# 添加网格显示
plt.grid(True, linestyle="--", alpha=0.5)

plt.title("2025年营销额示意图", fontsize=20)
plt.xlabel("月份", fontsize=15)
plt.ylabel("营销额", fontsize=15)
plt.grid(True, linestyle="--", alpha=0.5)

plt.plot(x, y_A)








import random

import matplotlib.pyplot as plt

# 生成序列 12个月
x = range(12)
# 列表生成式
y_A = [random.uniform(10, 15) for i in x]

# 画布
plt.figure(figsize=(20, 5), dpi=100)

# 构造x,y刻度标签
x_ticks = ["{}月".format(i + 1) for i in x]
y_ticks = range(30)

# 修改x,y坐标的刻度显示
plt.xticks(x[::2], x_ticks[::2])
plt.yticks(y_ticks[::2])

# 添加网格显示
plt.grid(True, linestyle="--", alpha=0.5)

plt.title("2025年营销额示意图", fontsize=20)
plt.xlabel("月份", fontsize=15)
plt.ylabel("营销额", fontsize=15)
plt.grid(True, linestyle="--", alpha=0.5)

# 图像保存
plt.savefig("../images/Matplotlib的学习/test.png")

plt.plot(x, y_A)





import random

import matplotlib.pyplot as plt

# 生成序列 12个月
x = range(12)
# 列表生成式
y_A = [random.uniform(10, 15) for i in x]

# 画布
plt.figure(figsize=(20, 5), dpi=100)

# 构造x,y刻度标签
x_ticks = ["{}月".format(i + 1) for i in x]
y_ticks = range(30)

# 修改x,y坐标的刻度显示
plt.xticks(x[::2], x_ticks[::2])
plt.yticks(y_ticks[::2])

# 添加网格显示
plt.grid(True, linestyle="--", alpha=0.5)

plt.title("2025年营销额示意图", fontsize=20)
plt.xlabel("月份", fontsize=15)
plt.ylabel("营销额", fontsize=15)
plt.grid(True, linestyle="--", alpha=0.5)

# 图像保存
plt.savefig("../images/Matplotlib的学习/test.png")

plt.plot(x, y_A)











import random

import matplotlib.pyplot as plt

x = range(12)
y_A = [random.uniform(10, 15) for i in x]
y_B = [random.uniform(12, 17) for i in x]
y_C = [random.uniform(8, 13) for i in x]

plt.figure(figsize=(20, 5), dpi=100)
plt.plot(x, y_A, color="k", linestyle="-")
plt.plot(x, y_B, color="r", linestyle="--")
plt.plot(x, y_C, color="b", linestyle="-.", label="C")














import random

import matplotlib.pyplot as plt

x = range(12)
y_A = [random.uniform(10, 15) for i in x]
y_B = [random.uniform(12, 17) for i in x]
y_C = [random.uniform(8, 13) for i in x]

plt.figure(figsize=(20, 5), dpi=100)
plt.plot(x, y_A, color="k", linestyle="-", label="A")
plt.plot(x, y_B, color="r", linestyle="--", label="B")
plt.plot(x, y_C, color="b", linestyle="-.", label="C")
plt.legend(loc=0)











import random

import matplotlib.pyplot as plt

x = range(12)
y_A = [random.uniform(10, 15) for i in x]
y_B = [random.uniform(12, 17) for i in x]
y_C = [random.uniform(8, 13) for i in x]

plt.figure(figsize=(20, 5), dpi=100)
plt.plot(x, y_A, color="k", linestyle="-", label="A")
plt.plot(x, y_B, color="r", linestyle="--", label="B")
plt.plot(x, y_C, color="b", linestyle="-.", label="C")
plt.legend(loc=0)

plt.title("2025年营销额示意图", fontsize=20)
plt.xlabel("月份", fontsize=15)
plt.ylabel("营销额", fontsize=15)
plt.grid(True, linestyle="--", alpha=0.5)

# 下面对y做了特殊处理以达到显示单位的效果
x_ticks = ["{}月".format(i + 1) for i in x]
y_ticks = list(range(30))  # 因为range不可改动所以转为list
y_ticks[25] = "(万元)\n25"
plt.xticks(x[::2], x_ticks[::2])
y = range(30)
plt.yticks(y[::5], y_ticks[::5])

plt.savefig("../outimages/2025年营销额示意图.png")

plt.show()












