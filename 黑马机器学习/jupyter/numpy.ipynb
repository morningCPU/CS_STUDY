{
 "cells": [
  {
   "cell_type": "markdown",
   "id": "9562da43-e434-45c3-b6d1-a7911d23b65f",
   "metadata": {},
   "source": [
    "# Numpy 基础学习"
   ]
  },
  {
   "cell_type": "markdown",
   "id": "0a688759-84af-4124-8f69-b8aa68993a0f",
   "metadata": {},
   "source": [
    "## 1. Numpy基础介绍"
   ]
  },
  {
   "cell_type": "markdown",
   "id": "42d5692d-72fc-4583-9125-584a45e215a4",
   "metadata": {},
   "source": [
    "### (1) Numpy的作用\n",
    "用于快速处理任意维度的数组，主要进行数组和矩阵操作   \n",
    "使用 ndarray 对象来处理多维数组"
   ]
  },
  {
   "cell_type": "markdown",
   "id": "df580c53-5fb6-4cfc-98b6-89b81c67b78f",
   "metadata": {},
   "source": [
    "### (2) nbarray 介绍\n",
    "nbarray 是一个多维数组类型，描述了相同类型的 items 的集合   \n",
    "下面以一个超市一周的销售情况为例子   \n",
    "||食品|日用品|电子产品|\n",
    "|:-:|:-:|:-:|:-:|\n",
    "|周一|500|200|300|\n",
    "|周二|450|230|350|\n",
    "|周三|550|220|330|\n",
    "|周四|600|230|320|\n",
    "|周五|650|230|310|\n",
    "|周六|700|260|300|\n",
    "|周天|520|210|340|"
   ]
  },
  {
   "cell_type": "code",
   "execution_count": 3,
   "id": "f74e4622-dc38-4abb-8a64-45b24a486308",
   "metadata": {},
   "outputs": [
    {
     "data": {
      "text/plain": [
       "array([[500, 200, 300],\n",
       "       [450, 250, 350],\n",
       "       [550, 220, 330],\n",
       "       [600, 230, 320],\n",
       "       [650, 240, 310],\n",
       "       [700, 260, 300],\n",
       "       [520, 210, 340]])"
      ]
     },
     "execution_count": 3,
     "metadata": {},
     "output_type": "execute_result"
    }
   ],
   "source": [
    "import numpy as np\n",
    "\n",
    "source = np.array(\n",
    "    [\n",
    "        [500, 200, 300],  # 周一的销售数据\n",
    "        [450, 250, 350],  # 周二的销售数据\n",
    "        [550, 220, 330],  # 周三的销售数据\n",
    "        [600, 230, 320],  # 周四的销售数据\n",
    "        [650, 240, 310],  # 周五的销售数据\n",
    "        [700, 260, 300],  # 周六的销售数据\n",
    "        [520, 210, 340],  # 周日的销售数据\n",
    "    ]\n",
    ")\n",
    "\n",
    "source"
   ]
  },
  {
   "cell_type": "markdown",
   "id": "2e88f90c-ff0c-4cd3-8259-d38f7f96af39",
   "metadata": {},
   "source": [
    "### (3) numpy 的优势\n",
    "计算速度快"
   ]
  },
  {
   "cell_type": "markdown",
   "id": "aba631dc-c1aa-4c43-83d2-294e8e708fc1",
   "metadata": {},
   "source": [
    "***"
   ]
  },
  {
   "cell_type": "markdown",
   "id": "aff5a868-c9c1-4f58-8cfa-e74ffe08fb7e",
   "metadata": {},
   "source": [
    "## 2. ndarray 的使用"
   ]
  },
  {
   "cell_type": "markdown",
   "id": "f220d27c-17f3-4675-9b80-f8f135914ccd",
   "metadata": {},
   "source": [
    "### (1) 数组的属性"
   ]
  },
  {
   "cell_type": "markdown",
   "id": "6cbd5eac-2470-4023-87f0-f2846b98e78c",
   "metadata": {},
   "source": [
    "|属性|解释|\n",
    "|:-:|:-:|\n",
    "|shape|数组维度的元组|\n",
    "|ndim|数组维度|\n",
    "|size|数组中的元素数量|\n",
    "|itemsize|每个元素所占的字节数|\n",
    "|dtype|数组元素的类型|"
   ]
  },
  {
   "cell_type": "code",
   "execution_count": 8,
   "id": "9b4aad1e-b430-4e9e-85e2-fdfef2d947c9",
   "metadata": {},
   "outputs": [
    {
     "data": {
      "text/plain": [
       "(7, 3)"
      ]
     },
     "execution_count": 8,
     "metadata": {},
     "output_type": "execute_result"
    }
   ],
   "source": [
    "import numpy as np\n",
    "\n",
    "source = np.array(\n",
    "    [\n",
    "        [500, 200, 300],  # 周一的销售数据\n",
    "        [450, 250, 350],  # 周二的销售数据\n",
    "        [550, 220, 330],  # 周三的销售数据\n",
    "        [600, 230, 320],  # 周四的销售数据\n",
    "        [650, 240, 310],  # 周五的销售数据\n",
    "        [700, 260, 300],  # 周六的销售数据\n",
    "        [520, 210, 340],  # 周日的销售数据\n",
    "    ]\n",
    ")\n",
    "\n",
    "source.shape  # 7行3列l"
   ]
  },
  {
   "cell_type": "code",
   "execution_count": 9,
   "id": "c97cfa8c-1625-4ae3-8971-4ba8bd64782a",
   "metadata": {},
   "outputs": [
    {
     "data": {
      "text/plain": [
       "2"
      ]
     },
     "execution_count": 9,
     "metadata": {},
     "output_type": "execute_result"
    }
   ],
   "source": [
    "source.ndim  # 2维w"
   ]
  },
  {
   "cell_type": "code",
   "execution_count": 10,
   "id": "13be48e8-253d-4694-be3e-70d7a7a9b631",
   "metadata": {},
   "outputs": [
    {
     "data": {
      "text/plain": [
       "21"
      ]
     },
     "execution_count": 10,
     "metadata": {},
     "output_type": "execute_result"
    }
   ],
   "source": [
    "source.size  # 有21个元素"
   ]
  },
  {
   "cell_type": "code",
   "execution_count": 11,
   "id": "818fb035-541b-4493-b3e5-50825c2a024e",
   "metadata": {},
   "outputs": [
    {
     "data": {
      "text/plain": [
       "4"
      ]
     },
     "execution_count": 11,
     "metadata": {},
     "output_type": "execute_result"
    }
   ],
   "source": [
    "source.itemsize  # 每个元素占4个字节"
   ]
  },
  {
   "cell_type": "code",
   "execution_count": 12,
   "id": "ca435103-1a92-47d8-b90c-7816e686d26b",
   "metadata": {},
   "outputs": [
    {
     "data": {
      "text/plain": [
       "dtype('int32')"
      ]
     },
     "execution_count": 12,
     "metadata": {},
     "output_type": "execute_result"
    }
   ],
   "source": [
    "source.dtype  # int32类型"
   ]
  },
  {
   "cell_type": "markdown",
   "id": "fcb7f82e-1da5-43c3-9f28-f30a9433810d",
   "metadata": {},
   "source": [
    "### (2) ndarray 的类型"
   ]
  },
  {
   "cell_type": "markdown",
   "id": "86ec76c4-4f30-4d1d-99e4-d883694047c4",
   "metadata": {},
   "source": [
    "|名称|描述|简写|\n",
    "|:-:|:-:|:-:|\n",
    "|bool|布尔类型|b|\n",
    "|int8||i|\n",
    "|int16||i2|\n",
    "|int32||i4|\n",
    "|int64||i8|\n",
    "|uint8||u|\n",
    "|uint16||u2|\n",
    "|uint32||u4|\n",
    "|uint64||u8|\n",
    "|float16||f2|\n",
    "|float32||f4|\n",
    "|float64||f8|\n",
    "|complex64|复数|c8|\n",
    "|complex128||c16|\n",
    "|object_|python对象|O|\n",
    "|string_|字符串|S|\n",
    "|unicode_|unicode类型|U|"
   ]
  },
  {
   "cell_type": "markdown",
   "id": "982a95f0-39f5-47eb-b21b-edd1e834b883",
   "metadata": {},
   "source": [
    "**创建数据时指定类型**"
   ]
  },
  {
   "cell_type": "code",
   "execution_count": 5,
   "id": "5e244a98-35a6-4cb6-a46a-0f53bd5a829b",
   "metadata": {},
   "outputs": [
    {
     "data": {
      "text/plain": [
       "dtype('int32')"
      ]
     },
     "execution_count": 5,
     "metadata": {},
     "output_type": "execute_result"
    }
   ],
   "source": [
    "import numpy as np\n",
    "\n",
    "source = np.array([1, 2, 3])\n",
    "\n",
    "source.dtype"
   ]
  },
  {
   "cell_type": "code",
   "execution_count": 3,
   "id": "07dde491-d2c0-4496-91ed-25392cadd608",
   "metadata": {},
   "outputs": [
    {
     "data": {
      "text/plain": [
       "dtype('int64')"
      ]
     },
     "execution_count": 3,
     "metadata": {},
     "output_type": "execute_result"
    }
   ],
   "source": [
    "import numpy as np\n",
    "\n",
    "source = np.array([1, 2, 3], dtype=np.int64)\n",
    "\n",
    "source.dtype"
   ]
  },
  {
   "cell_type": "markdown",
   "id": "e6edcc94-e9ff-43d6-ba3f-324e1a1de733",
   "metadata": {},
   "source": [
    "***"
   ]
  },
  {
   "cell_type": "markdown",
   "id": "2c2d11b4-9376-4737-88e3-01e6a2104c14",
   "metadata": {},
   "source": [
    "## 3. numpy 基本操作"
   ]
  },
  {
   "cell_type": "markdown",
   "id": "0fd0c9e9-0639-4ade-845d-a02d8a90a92f",
   "metadata": {},
   "source": [
    "### 3.1 生成数组"
   ]
  },
  {
   "cell_type": "markdown",
   "id": "3ae38aa8-c49c-4e09-9285-0f52fbc3953d",
   "metadata": {},
   "source": [
    "### (1) 生成0,1数组"
   ]
  },
  {
   "cell_type": "markdown",
   "id": "ee729dfc-d6bd-4305-b5a4-79070cdf488a",
   "metadata": {},
   "source": [
    "+ np.ones(shape,dtype)\n",
    "+ np.ones_like(narray,dtype) # 生成和narray形状相同的数组\n",
    "+ np.zeros(shape,dtype)\n",
    "+ np.zeros_like(narray,dtype)"
   ]
  },
  {
   "cell_type": "code",
   "execution_count": 9,
   "id": "5faa9ba9-73ad-4226-a7b4-32051134f6cd",
   "metadata": {},
   "outputs": [
    {
     "data": {
      "text/plain": [
       "array([[1, 1, 1],\n",
       "       [1, 1, 1]])"
      ]
     },
     "execution_count": 9,
     "metadata": {},
     "output_type": "execute_result"
    }
   ],
   "source": [
    "import numpy as np\n",
    "\n",
    "ones = np.ones([2, 3], dtype=\"int32\")  # 我这里默认是float64\n",
    "ones"
   ]
  },
  {
   "cell_type": "code",
   "execution_count": 11,
   "id": "b21a159e-34af-4fba-94d7-74a5c6efaace",
   "metadata": {},
   "outputs": [
    {
     "data": {
      "text/plain": [
       "array([[1, 1, 1],\n",
       "       [1, 1, 1]])"
      ]
     },
     "execution_count": 11,
     "metadata": {},
     "output_type": "execute_result"
    }
   ],
   "source": [
    "ones_2 = np.ones_like(ones)\n",
    "ones_2"
   ]
  },
  {
   "cell_type": "code",
   "execution_count": 14,
   "id": "e491dde9-49fe-4400-84d8-2f8c031f81e0",
   "metadata": {},
   "outputs": [
    {
     "data": {
      "text/plain": [
       "array([[0, 0, 0],\n",
       "       [0, 0, 0]])"
      ]
     },
     "execution_count": 14,
     "metadata": {},
     "output_type": "execute_result"
    }
   ],
   "source": [
    "import numpy as np\n",
    "\n",
    "zeros = np.zeros([2, 3], dtype=\"int32\")  # 我这里默认是float64\n",
    "zeros"
   ]
  },
  {
   "cell_type": "code",
   "execution_count": 15,
   "id": "2f146654-6f43-4300-a281-211d51ebffc3",
   "metadata": {},
   "outputs": [
    {
     "data": {
      "text/plain": [
       "array([[0, 0, 0],\n",
       "       [0, 0, 0]])"
      ]
     },
     "execution_count": 15,
     "metadata": {},
     "output_type": "execute_result"
    }
   ],
   "source": [
    "zeros_2 = np.zeros_like(zeros)\n",
    "zeros_2"
   ]
  },
  {
   "cell_type": "markdown",
   "id": "9c889a8d-4f66-4495-be4b-5ad763275165",
   "metadata": {},
   "source": [
    "### (2) 从现有数组生成"
   ]
  },
  {
   "cell_type": "markdown",
   "id": "2495b73f-a29c-45f8-8b16-9e07b162035f",
   "metadata": {},
   "source": [
    "+ np.array(narray,dtype) #深拷贝\n",
    "+ np.asarray(narray,dtype) #浅拷贝，只是索引"
   ]
  },
  {
   "cell_type": "code",
   "execution_count": 31,
   "id": "04102008-3ed5-4f45-af23-fee22905ceae",
   "metadata": {},
   "outputs": [
    {
     "name": "stdout",
     "output_type": "stream",
     "text": [
      "a原本的值为:\n",
      "[[1 2 3]\n",
      " [4 5 6]]\n",
      "a的值为:\n",
      "[[5 2 3]\n",
      " [4 5 6]]\n",
      "b的值为:\n",
      "[[1 2 3]\n",
      " [4 5 6]]\n",
      "c的值为:\n",
      "[[5 2 3]\n",
      " [4 5 6]]\n"
     ]
    }
   ],
   "source": [
    "import numpy as np\n",
    "\n",
    "a = np.array([[1, 2, 3], [4, 5, 6]])\n",
    "print(\"a原本的值为:\\n{}\".format(a))\n",
    "b = np.array(a)\n",
    "c = np.asarray(a)\n",
    "a[0][0] = 5\n",
    "print(\"a的值为:\\n{}\".format(a))\n",
    "print(\"b的值为:\\n{}\".format(b))  # b不会被改动\n",
    "print(\"c的值为:\\n{}\".format(c))  # c 会被改动"
   ]
  },
  {
   "cell_type": "markdown",
   "id": "45a539f4-72fd-4193-a3e0-ff12770bf322",
   "metadata": {},
   "source": [
    "### (3) 生成固定范围的数组"
   ]
  },
  {
   "cell_type": "markdown",
   "id": "3250d89f-f8f9-49c9-9d02-ca2bb7b04e9c",
   "metadata": {},
   "source": [
    "**np.linspace(start,stop,num,endpoint)**"
   ]
  },
  {
   "cell_type": "markdown",
   "id": "0c7a3abc-8c54-4876-9e3f-ef46ba0d1aa2",
   "metadata": {},
   "source": [
    "生成等差数组\n",
    "+ num : 生成的等间隔数据的数量\n",
    "+ endpoint : 是否包含stop值,默认为true"
   ]
  },
  {
   "cell_type": "code",
   "execution_count": 38,
   "id": "27bb12e7-adad-489e-9f35-7734a044fdc7",
   "metadata": {},
   "outputs": [
    {
     "data": {
      "text/plain": [
       "array([  0,  11,  22,  33,  44,  55,  66,  77,  88, 100])"
      ]
     },
     "execution_count": 38,
     "metadata": {},
     "output_type": "execute_result"
    }
   ],
   "source": [
    "import numpy as np\n",
    "\n",
    "a = np.linspace(0, 100, 10, dtype=\"int32\")\n",
    "\n",
    "a"
   ]
  },
  {
   "cell_type": "markdown",
   "id": "97380bb3-a530-47ad-8342-9260dda4e0bc",
   "metadata": {},
   "source": [
    "**np.arange(start,stop,step,dtype)**"
   ]
  },
  {
   "cell_type": "markdown",
   "id": "49a6629e-703b-4362-9090-0a01d329329c",
   "metadata": {},
   "source": [
    "+ 指定 step 步长 "
   ]
  },
  {
   "cell_type": "code",
   "execution_count": 40,
   "id": "fe87783a-8cf1-48ec-868f-171023499585",
   "metadata": {},
   "outputs": [
    {
     "data": {
      "text/plain": [
       "array([ 0, 11, 22, 33, 44, 55, 66, 77, 88, 99])"
      ]
     },
     "execution_count": 40,
     "metadata": {},
     "output_type": "execute_result"
    }
   ],
   "source": [
    "import numpy as np\n",
    "\n",
    "a = np.arange(0, 100, 11)\n",
    "a"
   ]
  },
  {
   "cell_type": "markdown",
   "id": "61334c94-d76a-4cfd-87c1-9d5b80865dcc",
   "metadata": {},
   "source": [
    "**np.logspace(start,stop,num)**"
   ]
  },
  {
   "cell_type": "markdown",
   "id": "19e47cfe-4244-4920-b1b6-ed51a0778e97",
   "metadata": {},
   "source": [
    "+ start : 10^start\n",
    "+ end : 10^end\n",
    "+ num : 数量"
   ]
  },
  {
   "cell_type": "code",
   "execution_count": 47,
   "id": "dd669119-2239-4f94-a560-6ccc8e26a0cb",
   "metadata": {},
   "outputs": [
    {
     "data": {
      "text/plain": [
       "array([  1.,  10., 100.])"
      ]
     },
     "execution_count": 47,
     "metadata": {},
     "output_type": "execute_result"
    }
   ],
   "source": [
    "import numpy as np\n",
    "\n",
    "a = np.logspace(0, 2, 3)\n",
    "a"
   ]
  },
  {
   "cell_type": "markdown",
   "id": "2b849452-fa72-4bec-830d-f1d742ead106",
   "metadata": {},
   "source": [
    "### (4) 生成随机数组"
   ]
  },
  {
   "cell_type": "markdown",
   "id": "0a073422-e12f-4288-a946-e256d9875fbe",
   "metadata": {},
   "source": [
    "使用 np.random 模块"
   ]
  },
  {
   "cell_type": "markdown",
   "id": "9384f4e3-22b9-4b11-8b39-a0f7c3a5ab81",
   "metadata": {},
   "source": [
    "**np.random.randn(d0,d1,d2,...)**   \n",
    "从标准正态分布中返回一个或多个样本值"
   ]
  },
  {
   "cell_type": "code",
   "execution_count": 65,
   "id": "1117009c-f623-48d1-b094-fcc3fe8935aa",
   "metadata": {},
   "outputs": [
    {
     "data": {
      "image/png": "[encoded data removed]",
      "text/plain": [
       "<Figure size 2000x500 with 1 Axes>"
      ]
     },
     "metadata": {},
     "output_type": "display_data"
    }
   ],
   "source": [
    "import matplotlib.pyplot as plt\n",
    "import numpy as np\n",
    "\n",
    "a = np.random.randn(100000000)\n",
    "fig, axes = plt.subplots(nrows=1, ncols=1, figsize=(20, 5), dpi=100)\n",
    "axes.hist(a,10000)\n",
    "\n",
    "plt.show()"
   ]
  },
  {
   "cell_type": "markdown",
   "id": "6b407103-8085-4f01-9eb8-0cd6ecbb9fc0",
   "metadata": {},
   "source": [
    "**np.random.normal(loc,scale,size)**   \n",
    "+ loc ： 均值\n",
    "+ scale ： 标准差\n",
    "+ size : shape"
   ]
  },
  {
   "cell_type": "code",
   "execution_count": 59,
   "id": "d111298f-de0a-4217-b4f5-a1b24a3ec99b",
   "metadata": {},
   "outputs": [
    {
     "data": {
      "image/png": "[encoded data removed]",
      "text/plain": [
       "<Figure size 2000x500 with 1 Axes>"
      ]
     },
     "metadata": {},
     "output_type": "display_data"
    }
   ],
   "source": [
    "import matplotlib.pyplot as plt\n",
    "import numpy as np\n",
    "\n",
    "a = np.random.normal(1.75, 1, 100000000)\n",
    "fig, axes = plt.subplots(nrows=1, ncols=1, figsize=(20, 5), dpi=100)\n",
    "axes.hist(a,10000)\n",
    "\n",
    "plt.show()"
   ]
  },
  {
   "cell_type": "markdown",
   "id": "5d09f253-0e04-4d24-bb6f-89e471b338f6",
   "metadata": {},
   "source": [
    "**np.random.standard_normal(size)**   \n",
    "返回指定形状的标准正态分布的数组"
   ]
  },
  {
   "cell_type": "code",
   "execution_count": 58,
   "id": "0b3f0e0d-aac9-4734-994b-af840beb39d3",
   "metadata": {},
   "outputs": [
    {
     "data": {
      "image/png": "[encoded data removed]",
      "text/plain": [
       "<Figure size 2000x500 with 1 Axes>"
      ]
     },
     "metadata": {},
     "output_type": "display_data"
    }
   ],
   "source": [
    "import matplotlib.pyplot as plt\n",
    "import numpy as np\n",
    "\n",
    "a = np.random.standard_normal(100000000)\n",
    "fig, axes = plt.subplots(nrows=1, ncols=1, figsize=(20, 5), dpi=100)\n",
    "axes.hist(a,1000)\n",
    "\n",
    "plt.show()"
   ]
  },
  {
   "cell_type": "code",
   "execution_count": null,
   "id": "5aa19eed-c1bf-47aa-aadc-ee11f18a73f6",
   "metadata": {},
   "outputs": [],
   "source": []
  }
 ],
 "metadata": {
  "kernelspec": {
   "display_name": "Python 3 (ipykernel)",
   "language": "python",
   "name": "python3"
  },
  "language_info": {
   "codemirror_mode": {
    "name": "ipython",
    "version": 3
   },
   "file_extension": ".py",
   "mimetype": "text/x-python",
   "name": "python",
   "nbconvert_exporter": "python",
   "pygments_lexer": "ipython3",
   "version": "3.9.23"
  }
 },
 "nbformat": 4,
 "nbformat_minor": 5
}
